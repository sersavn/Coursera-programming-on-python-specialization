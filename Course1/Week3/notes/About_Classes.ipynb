{
 "cells": [
  {
   "cell_type": "markdown",
   "metadata": {},
   "source": [
    "- Объявление классов\n",
    "- Создание экземпляров (объектов классов)\n",
    "- Инициализация экземпляров класса\n",
    "- Работа с атрибутами экземпляра класса"
   ]
  },
  {
   "cell_type": "markdown",
   "metadata": {},
   "source": [
    "Какие можно привести реальные примеры использования классов? Например, это может быть обертка над соединением к базе данных. У нас есть класс, в котором есть состояние. И это состояние — это постоянное TCP соединение с базой. Также у этого класса могут быть методы, которые предоставляют некий интерфейс доступа к этому TCP соединению."
   ]
  },
  {
   "cell_type": "markdown",
   "metadata": {},
   "source": [
    "Методы представляют собой, например, возможности выбрать какие-то данные из базы, либо положить какие-то данные в базу. Тем самым мы инкапсулируем, то есть скрываем, TCP соединение внутри класса, а пользователю нашего класса предоставляем удобный интерфейс доступа к данным."
   ]
  },
  {
   "cell_type": "code",
   "execution_count": 1,
   "metadata": {},
   "outputs": [
    {
     "data": {
      "text/plain": [
       "True"
      ]
     },
     "execution_count": 1,
     "metadata": {},
     "output_type": "execute_result"
    }
   ],
   "source": [
    "num = 13\n",
    "isinstance(num, int)"
   ]
  },
  {
   "cell_type": "code",
   "execution_count": 2,
   "metadata": {},
   "outputs": [],
   "source": [
    "class Human:\n",
    "    pass"
   ]
  },
  {
   "cell_type": "code",
   "execution_count": 3,
   "metadata": {},
   "outputs": [
    {
     "name": "stdout",
     "output_type": "stream",
     "text": [
      "<class '__main__.Example'>\n"
     ]
    }
   ],
   "source": [
    "class Example:\n",
    "    \"\"\"I can write anything I want\"\"\"\n",
    "\n",
    "print(Example)"
   ]
  },
  {
   "cell_type": "code",
   "execution_count": 4,
   "metadata": {},
   "outputs": [
    {
     "name": "stdout",
     "output_type": "stream",
     "text": [
      "['__class__', '__delattr__', '__dict__', '__dir__', '__doc__', '__eq__', '__format__', '__ge__', '__getattribute__', '__gt__', '__hash__', '__init__', '__init_subclass__', '__le__', '__lt__', '__module__', '__ne__', '__new__', '__reduce__', '__reduce_ex__', '__repr__', '__setattr__', '__sizeof__', '__str__', '__subclasshook__', '__weakref__']\n"
     ]
    }
   ],
   "source": [
    "print(dir(Example))"
   ]
  },
  {
   "cell_type": "markdown",
   "metadata": {},
   "source": [
    "### Creation of exemplar (Создание экземпляра (объекта) класса)"
   ]
  },
  {
   "cell_type": "markdown",
   "metadata": {},
   "source": [
    "Everything in python is object"
   ]
  },
  {
   "cell_type": "code",
   "execution_count": 5,
   "metadata": {},
   "outputs": [],
   "source": [
    "class Planet:\n",
    "    pass"
   ]
  },
  {
   "cell_type": "code",
   "execution_count": 6,
   "metadata": {},
   "outputs": [],
   "source": [
    "planet = Planet()"
   ]
  },
  {
   "cell_type": "code",
   "execution_count": 7,
   "metadata": {
    "scrolled": true
   },
   "outputs": [
    {
     "name": "stdout",
     "output_type": "stream",
     "text": [
      "<__main__.Planet object at 0x0000013A0A7E3320>\n"
     ]
    }
   ],
   "source": [
    "print(planet)"
   ]
  },
  {
   "cell_type": "code",
   "execution_count": 8,
   "metadata": {},
   "outputs": [
    {
     "name": "stdout",
     "output_type": "stream",
     "text": [
      "[<__main__.Planet object at 0x0000013A0A7E3828>, <__main__.Planet object at 0x0000013A0A7E3320>, <__main__.Planet object at 0x0000013A0A7E3898>, <__main__.Planet object at 0x0000013A0A7E38D0>, <__main__.Planet object at 0x0000013A0A7E3908>, <__main__.Planet object at 0x0000013A0A7E3940>, <__main__.Planet object at 0x0000013A0A7E3978>, <__main__.Planet object at 0x0000013A0A7E39B0>]\n"
     ]
    }
   ],
   "source": [
    "solar_system = []\n",
    "for i in range(8):\n",
    "    planet = Planet()\n",
    "    solar_system.append(planet)\n",
    "    \n",
    "print(solar_system)"
   ]
  },
  {
   "cell_type": "code",
   "execution_count": 13,
   "metadata": {},
   "outputs": [],
   "source": [
    "class Planet:\n",
    "    \n",
    "    def __init__(self, name):\n",
    "        self.name = name"
   ]
  },
  {
   "cell_type": "code",
   "execution_count": 10,
   "metadata": {},
   "outputs": [
    {
     "name": "stdout",
     "output_type": "stream",
     "text": [
      "Earth\n",
      "<__main__.Planet object at 0x0000013A0A7E3B00>\n"
     ]
    }
   ],
   "source": [
    "earth = Planet(\"Earth\") #переменная earth экземпляр класса planet\n",
    "print(earth.name) #обращение к имени планеты (атрибуту экземпляра)\n",
    "print(earth)"
   ]
  },
  {
   "cell_type": "code",
   "execution_count": 14,
   "metadata": {},
   "outputs": [
    {
     "name": "stdout",
     "output_type": "stream",
     "text": [
      "Earth\n"
     ]
    }
   ],
   "source": [
    "class Planet:\n",
    "    def __init__(self, name):\n",
    "        self.name = name\n",
    "    def __str__(self):\n",
    "        return self.name\n",
    "\n",
    "earth = Planet(\"Earth\")\n",
    "print(earth)"
   ]
  },
  {
   "cell_type": "markdown",
   "metadata": {},
   "source": [
    "### Exemplar attributes"
   ]
  },
  {
   "cell_type": "code",
   "execution_count": 16,
   "metadata": {},
   "outputs": [
    {
     "name": "stdout",
     "output_type": "stream",
     "text": [
      "Mars\n"
     ]
    }
   ],
   "source": [
    "mars = Planet(\"Mars\")\n",
    "print(mars)"
   ]
  },
  {
   "cell_type": "code",
   "execution_count": 17,
   "metadata": {},
   "outputs": [
    {
     "data": {
      "text/plain": [
       "'Mars'"
      ]
     },
     "execution_count": 17,
     "metadata": {},
     "output_type": "execute_result"
    }
   ],
   "source": [
    "mars.name"
   ]
  },
  {
   "cell_type": "code",
   "execution_count": 19,
   "metadata": {},
   "outputs": [
    {
     "data": {
      "text/plain": [
       "'Replaced name?'"
      ]
     },
     "execution_count": 19,
     "metadata": {},
     "output_type": "execute_result"
    }
   ],
   "source": [
    "mars.name = \"Replaced name?\" # изменение атрибута экземпляра\n",
    "mars.name"
   ]
  },
  {
   "cell_type": "code",
   "execution_count": 20,
   "metadata": {},
   "outputs": [],
   "source": [
    "del mars.name"
   ]
  }
 ],
 "metadata": {
  "kernelspec": {
   "display_name": "Python 3",
   "language": "python",
   "name": "python3"
  },
  "language_info": {
   "codemirror_mode": {
    "name": "ipython",
    "version": 3
   },
   "file_extension": ".py",
   "mimetype": "text/x-python",
   "name": "python",
   "nbconvert_exporter": "python",
   "pygments_lexer": "ipython3",
   "version": "3.6.5"
  }
 },
 "nbformat": 4,
 "nbformat_minor": 2
}
