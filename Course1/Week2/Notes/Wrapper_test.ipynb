{
 "cells": [
  {
   "cell_type": "code",
   "execution_count": 47,
   "metadata": {},
   "outputs": [
    {
     "data": {
      "text/plain": [
       "'{\"data\": null}'"
      ]
     },
     "execution_count": 47,
     "metadata": {},
     "output_type": "execute_result"
    }
   ],
   "source": [
    "import json\n",
    "import functools\n",
    "\n",
    "def to_json(func):\n",
    "    @functools.wraps(func)\n",
    "    def wrapped():#*args, **kwargs\n",
    "        result = func()\n",
    "        result_dumps = json.dumps(result)\n",
    "        #result_loads = json.loads(result_dumps)\n",
    "        return result_dumps\n",
    "    return wrapped\n",
    "\n",
    "@to_json\n",
    "def get_data():\n",
    "    return {'data': None}\n",
    "\n",
    "get_data()"
   ]
  },
  {
   "cell_type": "code",
   "execution_count": 25,
   "metadata": {},
   "outputs": [
    {
     "name": "stdout",
     "output_type": "stream",
     "text": [
      "{'data': 42} <class 'dict'>\n",
      "{\"data\": 42} <class 'str'>\n",
      "{'data': 42} <class 'dict'>\n"
     ]
    }
   ],
   "source": [
    "import json\n",
    "\n",
    "dict = {\n",
    "    'data' : 42\n",
    "}\n",
    "print(dict, type(dict))\n",
    "#dict = [1, 2, 3]\n",
    "a = json.dumps(dict)\n",
    "print(a, type(a))\n",
    "r = json.loads(a)\n",
    "print(r, type(r))"
   ]
  }
 ],
 "metadata": {
  "kernelspec": {
   "display_name": "Python 3",
   "language": "python",
   "name": "python3"
  },
  "language_info": {
   "codemirror_mode": {
    "name": "ipython",
    "version": 3
   },
   "file_extension": ".py",
   "mimetype": "text/x-python",
   "name": "python",
   "nbconvert_exporter": "python",
   "pygments_lexer": "ipython3",
   "version": "3.6.5"
  }
 },
 "nbformat": 4,
 "nbformat_minor": 2
}
